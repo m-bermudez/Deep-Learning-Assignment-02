{
 "cells": [
  {
   "cell_type": "markdown",
   "id": "32959045669ff751",
   "metadata": {},
   "source": [
    "# Assignment 02 - Team Magma\n",
    "### Collaborators: Alvaro Montoya Ruiz, Hriday Reddy Purma, Mauricio Bermudez"
   ]
  },
  {
   "cell_type": "markdown",
   "id": "85674a01aa1f04ba",
   "metadata": {},
   "source": [
    "## A. Library Imports\n"
   ]
  },
  {
   "cell_type": "code",
   "execution_count": 1,
   "id": "58bf3674101fe2d6",
   "metadata": {
    "ExecuteTime": {
     "end_time": "2025-02-24T15:55:38.442714Z",
     "start_time": "2025-02-24T15:55:30.664137Z"
    }
   },
   "outputs": [],
   "source": [
    "import torch\n",
    "import torchmetrics\n",
    "import pandas as pd\n",
    "import matplotlib.pyplot as plt\n",
    "from sklearn.preprocessing import LabelEncoder, StandardScaler\n",
    "from sklearn.model_selection import train_test_split\n",
    "from sklearn.metrics import (\n",
    "    confusion_matrix, ConfusionMatrixDisplay,\n",
    "    accuracy_score, precision_score, recall_score, f1_score\n",
    ")\n",
    "from torch.utils.data import DataLoader, TensorDataset, random_split\n",
    "from torch import nn, optim\n",
    "import torch.nn.init as init"
   ]
  },
  {
   "cell_type": "markdown",
   "id": "b909aca43f16f4dd",
   "metadata": {},
   "source": [
    "## B. Setting device and processing/cleaning the data\n",
    "\n",
    "The dataset used for this assignment was retrieved from https://www.kaggle.com/datasets/pavansubhasht/ibm-hr-analytics-attrition-dataset\n",
    "\n",
    "This is a fictional dataset created by IBM researchers with the aim to predict employee attrition and design models and procedures to minimize financial losses and its impact. In this scenario, reducing false negatives is particularly important since failing to identify employees who may leave could have serious business and economic consequences.\n",
    "\n",
    "Most of the data in the dataset is numeric; however, there are several categorical variables that need to be considered when analyzing the data:\n",
    "\n",
    "Nominal Variables: Department, Education Field, Gender, Job Role, Marital Status, and OverTime.\n",
    "Ordinal Variables: Business Travel, Education Level, Job Involvement, and Job Level. Some of these ordinal variables were mapped by IBM researchers.\n",
    "By addressing these categorical variables appropriately, the analysis will be able to account for the different categories within each variable and improve the accuracy of predictions regarding employee attrition."
   ]
  },
  {
   "cell_type": "code",
   "execution_count": 2,
   "id": "9d426aa8f1ef5b5",
   "metadata": {
    "ExecuteTime": {
     "end_time": "2025-02-24T15:55:38.879777Z",
     "start_time": "2025-02-24T15:55:38.457254Z"
    }
   },
   "outputs": [],
   "source": [
    "# Set device\n",
    "device = torch.device('cuda' if torch.cuda.is_available() else 'cpu')\n",
    "\n",
    "# Load dataset\n",
    "url = 'https://raw.githubusercontent.com/m-bermudez/ISM6561-Deep-Learning/refs/heads/main/EmployeeAttrition.csv'\n",
    "df = pd.read_csv(url)\n",
    "\n",
    "# Data cleaning and preprocessing\n",
    "df = df.dropna()  # Drop missing values"
   ]
  },
  {
   "cell_type": "markdown",
   "id": "290ae092ed78780e",
   "metadata": {},
   "source": [
    "## C. Encoding the data\n",
    "\n",
    "The categorical data was encoding using one hot dummies for the nominal columns and a mapping for ordinal columns such as well binary data"
   ]
  },
  {
   "cell_type": "code",
   "execution_count": 3,
   "id": "1e37a2633f6ec6d7",
   "metadata": {
    "ExecuteTime": {
     "end_time": "2025-02-24T15:55:39.306331Z",
     "start_time": "2025-02-24T15:55:39.283088Z"
    }
   },
   "outputs": [],
   "source": [
    "# Ordinal Mapping for 'BusinessTravel' column\n",
    "business_travel_mapping = {\n",
    "    'Non-Travel': 0,\n",
    "    'Travel_Rarely': 1,\n",
    "    'Travel_Frequently': 2\n",
    "}\n",
    "df['BusinessTravel'] = df['BusinessTravel'].map(business_travel_mapping)\n",
    "\n",
    "# One-Hot Encoding for Nominal Columns\n",
    "nominal_columns = [\n",
    "    'Department',\n",
    "    'EducationField',\n",
    "    'Gender',\n",
    "    'JobRole',\n",
    "    'MaritalStatus'\n",
    "]\n",
    "df = pd.get_dummies(df, columns=nominal_columns, drop_first=True)\n",
    "\n",
    "# Binary Encoding for 'Over18', 'Overtime', and 'Attrition'\n",
    "df['Over18'] = df['Over18'].map({'Y': 1, 'N': 0})\n",
    "df['OverTime'] = df['OverTime'].map({'Yes': 1, 'No': 0})\n",
    "df['Attrition'] = df['Attrition'].map({'Yes': 1, 'No': 0})\n",
    "\n",
    "# Drop 'EmployeeCount' and 'EmployeeNumber' columns\n",
    "df = df.drop(columns=['EmployeeCount', 'EmployeeNumber'])\n",
    "\n",
    "# Ensure all columns are numeric and of type float32\n",
    "df = df.apply(pd.to_numeric, errors='coerce').astype('float32')"
   ]
  },
  {
   "cell_type": "markdown",
   "id": "8a0a099b24ef2ef8",
   "metadata": {},
   "source": [
    "## D. Defining features and normalizing data"
   ]
  },
  {
   "cell_type": "code",
   "execution_count": 4,
   "id": "3dc6098beeb732c1",
   "metadata": {
    "ExecuteTime": {
     "end_time": "2025-02-24T15:55:39.370831Z",
     "start_time": "2025-02-24T15:55:39.356646Z"
    }
   },
   "outputs": [],
   "source": [
    "# Define features and target\n",
    "X = df.drop('Attrition', axis=1)\n",
    "y = df['Attrition']\n",
    "\n",
    "# Normalize the data\n",
    "scaler = StandardScaler()\n",
    "X = scaler.fit_transform(X)\n",
    "\n",
    "# Split dataset\n",
    "X_train, X_temp, y_train, y_temp = train_test_split(X, y, test_size=0.3, random_state=42)\n",
    "X_val, X_test, y_val, y_test = train_test_split(X_temp, y_temp, test_size=0.5, random_state=42)"
   ]
  },
  {
   "cell_type": "markdown",
   "id": "57be0939bf9d2121",
   "metadata": {},
   "source": [
    "## E. Tensor Conversion"
   ]
  },
  {
   "cell_type": "code",
   "execution_count": 5,
   "id": "ccc7572cf2575625",
   "metadata": {
    "ExecuteTime": {
     "end_time": "2025-02-24T15:55:39.412286Z",
     "start_time": "2025-02-24T15:55:39.395251Z"
    }
   },
   "outputs": [],
   "source": [
    "# Convert to tensors\n",
    "X_train = torch.tensor(X_train, dtype=torch.float32)\n",
    "X_val = torch.tensor(X_val, dtype=torch.float32)\n",
    "X_test = torch.tensor(X_test, dtype=torch.float32)\n",
    "y_train = torch.tensor(y_train.values, dtype=torch.float32)\n",
    "y_val = torch.tensor(y_val.values, dtype=torch.float32)\n",
    "y_test = torch.tensor(y_test.values, dtype=torch.float32)\n",
    "\n",
    "# Create DataLoaders\n",
    "batch_size = 64\n",
    "#batch_size = 128\n",
    "#batch_size = 32\n",
    "train_dataset = TensorDataset(X_train, y_train)\n",
    "val_dataset = TensorDataset(X_val, y_val)\n",
    "test_dataset = TensorDataset(X_test, y_test)\n",
    "train_loader = DataLoader(train_dataset, batch_size=batch_size, shuffle=True)\n",
    "val_loader = DataLoader(val_dataset, batch_size=batch_size)\n",
    "test_loader = DataLoader(test_dataset, batch_size=batch_size)"
   ]
  },
  {
   "cell_type": "markdown",
   "id": "dc25fa9f313cfd03",
   "metadata": {},
   "source": [
    "## F. Defining Neural Network"
   ]
  },
  {
   "cell_type": "markdown",
   "id": "0cbcedbf-b321-455a-b695-df8290a3af18",
   "metadata": {},
   "source": [
    "#### Neural Network Architecture\n",
    "We implemented a neural network architecture with the following configuration:\n",
    "\n",
    "#### Number of Layers: T\n",
    "he network consists of 5 layers:\n",
    "\n",
    "* 1 input layer\n",
    "* 3 hidden layers\n",
    "* 1 output layer\n",
    "\n",
    "#### Number of Neurons per Layer:\n",
    "\n",
    "* Input layer: 32 neurons, corresponding to the feature dimensions of the dataset.\n",
    "* First hidden layer: 64 neurons\n",
    "* Second hidden layer: 128 neurons\n",
    "* Third hidden layer: 64 neurons\n",
    "* Output layer: 1 neuron, implemented with a sigmoid activation function for binary classification.\n",
    "\n",
    "#### Activation Functions:\n",
    "\n",
    "We employed the ELU (Exponential Linear Unit) activation function for all layers. This choice was made to mitigate the vanishing gradient problem and improve the network's ability to learn complex patterns.\n",
    "Output Layer Activation: A single neuron with a sigmoid activation function is used to produce binary outcomes (0 or 1).\n",
    "\n",
    "#### Additional Information:\n",
    "To enhance the model's performance and generalization, we incorporated two key techniques:\n",
    "\n",
    "* Dropout was applied after each hidden layer to prevent overfitting.\n",
    "By randomly deactivating a specified percentage of neurons during training, dropout ensures that no single neuron becomes too influential, encouraging the network to learn redundant feature representations. This improves robustness and generalization.\n",
    "\n",
    "* Batch normalization was implemented for each layer to stabilize and accelerate the training process.\n",
    "By normalizing the inputs across mini-batches, this technique helps reduce internal covariate shift and ensures consistent training dynamics.\n",
    "\n",
    "\n",
    "One of the challenges faced by our model was its ability to learn at an appropriate rate during training. This issue was addressed through the use of dropout and batch normalization."
   ]
  },
  {
   "cell_type": "code",
   "execution_count": 6,
   "id": "initial_id",
   "metadata": {
    "ExecuteTime": {
     "end_time": "2025-02-24T15:55:39.500005Z",
     "start_time": "2025-02-24T15:55:39.490315Z"
    }
   },
   "outputs": [],
   "source": [
    "# Define the neural network\n",
    "class MLP(nn.Module):\n",
    "    def __init__(self, input_size=None):\n",
    "        super(MLP, self).__init__()\n",
    "        if input_size is None:\n",
    "            input_size = X_train.shape[1]\n",
    "        #Linear Layer 1\n",
    "        self.fc1 = nn.Linear(input_size, 64)\n",
    "        self.bn1 = nn.BatchNorm1d(64)\n",
    "\n",
    "        #Linear Layer 2\n",
    "        self.fc2 = nn.Linear(64, 128)\n",
    "        self.bn2 = nn.BatchNorm1d(128)\n",
    "\n",
    "        #Linear Layer 3\n",
    "        self.fc3 = nn.Linear(128, 64)\n",
    "        self.bn3 = nn.BatchNorm1d(64)\n",
    "\n",
    "        #Linear Layer 4 into Sigmoid function\n",
    "        self.fc4 = nn.Linear(64, 1)\n",
    "        self.elu = nn.ELU()\n",
    "        self.sigmoid = nn.Sigmoid()\n",
    "        self.dropout = nn.Dropout(0.5)\n",
    "\n",
    "    def forward(self, x):\n",
    "        # Layer 1\n",
    "        x = self.fc1(x)\n",
    "        x = self.bn1(x)\n",
    "        x = self.elu(x)  # ELU after batch normalization\n",
    "        x = self.dropout(x)\n",
    "        \n",
    "        # Layer 2\n",
    "        x = self.fc2(x)\n",
    "        x = self.bn2(x)\n",
    "        x = self.elu(x)  \n",
    "        x = self.dropout(x)\n",
    "        \n",
    "        # Layer 3\n",
    "        x = self.fc3(x)\n",
    "        x = self.bn3(x)\n",
    "        x = self.elu(x)  \n",
    "        x = self.dropout(x)\n",
    "        \n",
    "        # Output layer\n",
    "        x = self.fc4(x)\n",
    "        x = self.sigmoid(x)  # Sigmoid for binary classification\n",
    "        return x"
   ]
  },
  {
   "cell_type": "markdown",
   "id": "a4730afb-fc81-4551-bccb-e37f74f3db9c",
   "metadata": {},
   "source": [
    "## G. Defining non trivial loss function and mathematical formulas"
   ]
  },
  {
   "cell_type": "markdown",
   "id": "dec0eb59db13dcdf",
   "metadata": {},
   "source": [
    "### G.1 - Custom BCE Loss Function"
   ]
  },
  {
   "cell_type": "markdown",
   "id": "9f9968d0-132d-4791-a0e5-c5cfd065596c",
   "metadata": {},
   "source": [
    "Mathematical formula:\n",
    "y = true label\n",
    "y^ = predicted probability\n",
    "\n",
    "BCELoss(y, y^)=− 1/n  n ∑ i=1 (yi * log(yi^)+(1−yi)* log(1− yi^))"
   ]
  },
  {
   "cell_type": "code",
   "execution_count": 7,
   "id": "dd11afcc-2334-4e33-a2bd-8d07aafde095",
   "metadata": {
    "ExecuteTime": {
     "end_time": "2025-02-24T15:55:39.534Z",
     "start_time": "2025-02-24T15:55:39.529024Z"
    }
   },
   "outputs": [],
   "source": [
    "# Custom BCE loss function\n",
    "def custom_bce_loss(outputs, targets):\n",
    "    outputs = torch.clamp(outputs, 1e-7, 1 - 1e-7)\n",
    "    bce_loss = - (targets * torch.log(outputs) + (1 - targets) * torch.log(1 - outputs))\n",
    "    return bce_loss.mean()\n"
   ]
  },
  {
   "cell_type": "markdown",
   "id": "d81b40ee934b1ac3",
   "metadata": {},
   "source": [
    "### G.2 - Custom Hinge Loss Function"
   ]
  },
  {
   "cell_type": "markdown",
   "id": "f6576464-6a01-4fb4-9207-ef06a625226f",
   "metadata": {},
   "source": [
    "Mathematical formula:\n",
    "y = true label\n",
    "y^ = predicted probability\n",
    "\n",
    "Hingeloss(y, y^)= 1/n  n ∑ i=1  max(0,1−yi * yi^)"
   ]
  },
  {
   "cell_type": "code",
   "execution_count": 8,
   "id": "bc3ad38b-6e9c-4898-8b10-11b356af7ca8",
   "metadata": {
    "ExecuteTime": {
     "end_time": "2025-02-24T15:55:39.566025Z",
     "start_time": "2025-02-24T15:55:39.561519Z"
    }
   },
   "outputs": [],
   "source": [
    "# Custom Hinge loss function\n",
    "def custom_hinge_loss(outputs, targets):\n",
    "   \n",
    "    # Ensure targets are in {-1, 1} for hinge loss\n",
    "    targets = 2 * targets - 1  # Convert {0, 1} to {-1, 1}\n",
    "    \n",
    "    # Compute hinge loss\n",
    "    hinge_loss = torch.mean(torch.clamp(1 - targets * outputs, min=0))\n",
    "    return hinge_loss"
   ]
  },
  {
   "cell_type": "markdown",
   "id": "bfdd6dea-1b28-441a-ae62-eb247321011a",
   "metadata": {},
   "source": [
    "### G.3 - Custom KL Divergence Loss Function"
   ]
  },
  {
   "cell_type": "markdown",
   "id": "2cc509b2-2bf2-47fc-9ea1-ffed6c61de9e",
   "metadata": {},
   "source": [
    "Mathematical formula\n",
    "(Q(x) is the predicted probability)\n",
    "(P(x) is the true label)\n",
    "\n",
    "KL(P∣∣Q)=∑x P(x)⋅log(Q(x)/P(x))"
   ]
  },
  {
   "cell_type": "code",
   "execution_count": 9,
   "id": "66df8875-771d-4925-bd14-53d63944d29b",
   "metadata": {},
   "outputs": [],
   "source": [
    "def custom_kl_divergence(outputs, targets):\n",
    "    \n",
    "    epsilon = 1e-7\n",
    "    outputs = torch.clamp(outputs, epsilon, 1.0 - epsilon)\n",
    "    targets = torch.clamp(targets, epsilon, 1.0 - epsilon)\n",
    "    \n",
    "    # Compute the KL divergence for each element and reduce by taking mean\n",
    "    kl_div = targets * torch.log(targets / outputs) + (1 - targets) * torch.log((1 - targets)/(1 - outputs))\n",
    "    return kl_div.mean()"
   ]
  },
  {
   "cell_type": "markdown",
   "id": "44d95151-0021-4c96-8d30-de45181daf9f",
   "metadata": {},
   "source": [
    "### G.4 -Explanation of advantages for cost functions"
   ]
  },
  {
   "cell_type": "markdown",
   "id": "ff45db55-5883-4f16-ac78-cecee5ea75e0",
   "metadata": {},
   "source": [
    "#### BCE Loss:\n",
    "\n",
    "* Benefits:\n",
    "BCE measures the difference between predicted probabilities and true labels. It Provides probability estimates, which are useful for decision-making processes requiring confidence score and it has a good performance with sigmoid activation.\n",
    "\n",
    "* Drawbacks:\n",
    "BCE is Sensitive to class imbalance. It may perform poorly on minority classes without adjustments like weighting or resampling techniques and it can be computationally more intensive due to logarithmic operations.\n",
    "\n",
    "#### Hinge loss:\n",
    "\n",
    "* Benefits:\n",
    "Hinge Loss focuses on maximizing the margin between classes, potentially leading to faster convergence and robustness against label noise.It is more computationally efficient than other cost functions as it avoids logarithmic operations.\n",
    "\n",
    "* Drawbacks:\n",
    "Hinge loss does not provide probability estimates.It focuses solely on correct classification without assessing confidence levels.As a result, it may be less interpretable compared to BCE Loss when determine business decisions to the stakeholders or business owners.\n",
    "\n",
    "#### KL Divergence:\n",
    "\n",
    "* Benefits:\n",
    "KL Divergence can provide more flexibility in certain scenarios due to its nature of comparing distributions. It allows adjustments, especially when the model needs to adapt differently based on data distribution characteristics.\n",
    "\n",
    "* Drawbacks:\n",
    "It may require careful implementation to avoid numerical issues, particularly with zero probabilities which can cause instability in computations. That is why we use the epsilon value on the function aboved.KL may be computationally heavier compared to Hinge loss due to additional divergence calculations."
   ]
  },
  {
   "cell_type": "markdown",
   "id": "a810416d-a7a0-4c68-98a6-3d656236a78e",
   "metadata": {},
   "source": [
    "## H. Weight Initialization"
   ]
  },
  {
   "cell_type": "markdown",
   "id": "cbb1a40d-b543-4ac5-b72c-a01f3d97f80c",
   "metadata": {},
   "source": [
    "### H.1 - Custom initialization function"
   ]
  },
  {
   "cell_type": "code",
   "execution_count": 10,
   "id": "8cd86d7c-6d45-4f1b-82f7-c93e790fd51e",
   "metadata": {},
   "outputs": [],
   "source": [
    "def initialize_weights(model, method=None, gain=1.0, constant_value=0.1, mean=0.0, std=0.01):\n",
    "    if method is None:\n",
    "        print(\"No initialization required\")\n",
    "        return  \n",
    "\n",
    "    for name, param in model.named_parameters():\n",
    "        if 'weight' in name:\n",
    "            if method == 'orthogonal':\n",
    "                init.orthogonal_(param, gain=gain)\n",
    "            elif method == 'constant':\n",
    "                init.constant_(param, constant_value)\n",
    "            elif method == 'normal':\n",
    "                init.normal_(param, mean=mean, std=std)\n",
    "            else:\n",
    "                raise ValueError(f\"Unsupported initialization method: {method}\")\n",
    "        elif 'bias' in name:\n",
    "            init.constant_(param, 0.0)  # Initialize biases to 0"
   ]
  },
  {
   "cell_type": "markdown",
   "id": "e6982b4e-7e9c-4ed2-aaca-cf52230bc770",
   "metadata": {},
   "source": [
    "### H.2 - Mathematical formulas and parameter explanations"
   ]
  },
  {
   "cell_type": "markdown",
   "id": "085f9a0e-e482-4864-8ebe-4d745172ea37",
   "metadata": {},
   "source": [
    "### Constant Initialization\n",
    "\n",
    "#### Mathematical Formula:\n",
    "W new=c\n",
    "\n",
    "where c is a constant value specified by the user (defaulting to 0.0).\n",
    "W new is the new weight\n",
    "\n",
    "#### Parameters:\n",
    "* constant_value: The scalar value to which all weights are initialized. Default is 0.0.\n",
    "\n",
    "#### Description:\n",
    "This method initializes all weight parameters to a fixed constant value, typically zero or another small value. This simplicity can be advantageous in certain scenarios but may limit the model's ability to learn diverse features if not carefully considered.\n",
    "\n",
    "### Normal Initialization\n",
    "\n",
    "#### Mathematical Formula:\n",
    "W new∼ N(μ,σ^2)\n",
    "\n",
    "where μ is the mean (defaulting to 0.0) and σ is the standard deviation (defaulting to 0.01).\n",
    "\n",
    "#### Parameters:\n",
    "\n",
    "* mean: The mean of the normal distribution from which weights are drawn.\n",
    "* std: The standard deviation of the normal distribution.\n",
    "\n",
    "#### Description:\n",
    "This method initializes weights using a normal distribution, allowing for variability and preventing all neurons from learning similar features too early. This can enhance the model's capacity to capture diverse patterns in the data.\n",
    "\n",
    "### Orthogonal Initialization\n",
    "\n",
    "#### Mathematical Formula:\n",
    "For an m×n matrix W, ensuring that:\n",
    "dot(W[:,i],W[:,j])=0 ∀i≠j\n",
    "\n",
    "#### Parameters:\n",
    "\n",
    "* gain: A scalar value (defaulting to 1.0) used to scale the initialized weights.\n",
    "\n",
    "#### Description:\n",
    "Orthogonal initialization ensures that the columns of the weight matrix are orthogonal to each other and ideally normalized as unit vectors. This helps in maintaining a stable gradient flow during training, which is particularly beneficial for deeper networks by preventing vanishing or exploding gradients.\n",
    "\n",
    "#### Since the sigmoid function is before the output layer, He initialization would not be a good implementation on this Binary Classifier NN\n"
   ]
  },
  {
   "cell_type": "code",
   "execution_count": 11,
   "id": "b38d13fc-1f7d-4f35-a176-355de5ae735f",
   "metadata": {},
   "outputs": [],
   "source": [
    "### H.3 - Rationale and Discussion on performance impact"
   ]
  },
  {
   "cell_type": "markdown",
   "id": "b6e4ebdc-cc03-40ca-a6c0-0ea50b5196a1",
   "metadata": {},
   "source": [
    "### Constant Initialization:\n",
    "\n",
    "Setting all weights to zero can lead to symmetry issues in the Binary classifier. During training, neurons in each layer will update identically because they receive the same input (zeros). This can result in slower convergence and poor performance as the network fails to learn diverse features.\n",
    "\n",
    "### Normal Initialization:\n",
    "\n",
    "By initializing weights from a normal distribution with mean 0 and a standard deviation, this method introduces variability, breaking symmetry and allowing each neuron to learn different features.\n",
    "\n",
    "### Orthogonal Initialization:\n",
    "\n",
    "This method ensures that weight vectors are orthogonal, preventing vanishing or exploding gradients in deeper networks. This will help maintain stable gradient flow during backpropagation as well with the implementation of ELU for vanishing gradient reduction.\n",
    "\n",
    "#### Gain Parameter in Orthogonal Initialization:\n",
    "\n",
    "The gain parameter scales the initialized weights. A higher gain can lead to faster learning but may cause instability, while a lower gain ensures more stable training at the cost of potentially slower convergence. This flexibility allows fine-tuning based on specific needs.\n"
   ]
  },
  {
   "cell_type": "markdown",
   "id": "7579da635195df5d",
   "metadata": {},
   "source": [
    "## I. Defining Training Function"
   ]
  },
  {
   "cell_type": "code",
   "execution_count": 12,
   "id": "47e60d1b5a4cad57",
   "metadata": {
    "ExecuteTime": {
     "end_time": "2025-02-24T15:55:39.627334Z",
     "start_time": "2025-02-24T15:55:39.616854Z"
    }
   },
   "outputs": [],
   "source": [
    "def train_model(model, train_loader, val_loader, criterion, optimizer, num_epochs=50, patience=5):\n",
    "    train_losses, val_losses = [], []\n",
    "    train_accuracies, val_accuracies = [], []\n",
    "    accuracy_metric = torchmetrics.Accuracy(task='binary').to(device)\n",
    "\n",
    "    # Initialize variables for early stopping\n",
    "    best_val_loss = float('inf')  # Track the best validation loss\n",
    "    epochs_without_improvement = 0  # Count epochs without improvement\n",
    "    best_model_weights = None  # Save the best model weights\n",
    "\n",
    "    for epoch in range(num_epochs):\n",
    "        model.train()\n",
    "        running_loss = 0.0\n",
    "        running_accuracy = 0.0\n",
    "\n",
    "        # Training phase\n",
    "        for inputs, targets in train_loader:\n",
    "            inputs, targets = inputs.to(device), targets.to(device)\n",
    "            optimizer.zero_grad()\n",
    "            outputs = model(inputs).squeeze()\n",
    "            loss = criterion(outputs, targets)\n",
    "            loss.backward()\n",
    "            optimizer.step()\n",
    "\n",
    "            # Compute accuracy\n",
    "            preds = (outputs > 0.5).float()  # Convert probabilities to binary predictions\n",
    "            accuracy = accuracy_metric(preds, targets)\n",
    "\n",
    "            running_loss += loss.item() * inputs.size(0)\n",
    "            running_accuracy += accuracy.item() * inputs.size(0)\n",
    "\n",
    "        # Compute average loss and accuracy for the epoch\n",
    "        epoch_loss = running_loss / len(train_loader.dataset)\n",
    "        epoch_accuracy = running_accuracy / len(train_loader.dataset)\n",
    "        train_losses.append(epoch_loss)\n",
    "        train_accuracies.append(epoch_accuracy)\n",
    "\n",
    "        # Validation phase\n",
    "        model.eval()\n",
    "        val_loss = 0.0\n",
    "        val_accuracy = 0.0\n",
    "        with torch.no_grad():\n",
    "            for inputs, targets in val_loader:\n",
    "                inputs, targets = inputs.to(device), targets.to(device)\n",
    "                outputs = model(inputs).squeeze()\n",
    "                loss = criterion(outputs, targets)\n",
    "\n",
    "                # Compute accuracy\n",
    "                preds = (outputs > 0.5).float()\n",
    "                accuracy = accuracy_metric(preds, targets)\n",
    "\n",
    "                val_loss += loss.item() * inputs.size(0)\n",
    "                val_accuracy += accuracy.item() * inputs.size(0)\n",
    "\n",
    "        # Compute average validation loss and accuracy for the epoch\n",
    "        val_loss = val_loss / len(val_loader.dataset)\n",
    "        val_accuracy = val_accuracy / len(val_loader.dataset)\n",
    "        val_losses.append(val_loss)\n",
    "        val_accuracies.append(val_accuracy)\n",
    "\n",
    "        # Print epoch results\n",
    "        print(f'Epoch [{epoch+1}/{num_epochs}], '\n",
    "              f'Train Loss: {epoch_loss:.4f}, Train Accuracy: {epoch_accuracy:.4f}, '\n",
    "              f'Val Loss: {val_loss:.4f}, Val Accuracy: {val_accuracy:.4f}')\n",
    "\n",
    "        # Early stopping logic\n",
    "        if val_loss < best_val_loss:\n",
    "            best_val_loss = val_loss  # Update the best validation loss\n",
    "            epochs_without_improvement = 0  # Reset the counter\n",
    "            best_model_weights = model.state_dict()  # Save the best model weights\n",
    "        else:\n",
    "            epochs_without_improvement += 1  # Increment the counter\n",
    "\n",
    "        # Stop training if validation loss hasn't improved for `patience` epochs\n",
    "        if epochs_without_improvement >= patience:\n",
    "            print(f'Early stopping at epoch {epoch+1} (no improvement for {patience} epochs).')\n",
    "            break\n",
    "\n",
    "    # Load the best model weights\n",
    "    if best_model_weights is not None:\n",
    "        model.load_state_dict(best_model_weights)\n",
    "        print('Loaded the best model weights.')\n",
    "\n",
    "    return train_losses, val_losses, train_accuracies, val_accuracies"
   ]
  },
  {
   "cell_type": "markdown",
   "id": "cfbed38e6d972584",
   "metadata": {},
   "source": [
    "## J. Model Evaluation"
   ]
  },
  {
   "cell_type": "code",
   "execution_count": 13,
   "id": "d02538a5-a0a2-4827-9584-aba738499e89",
   "metadata": {
    "ExecuteTime": {
     "end_time": "2025-02-24T15:55:39.640831Z",
     "start_time": "2025-02-24T15:55:39.634479Z"
    }
   },
   "outputs": [],
   "source": [
    "def evaluate_model(model, test_loader, criterion):\n",
    "    model.eval()  # Set the model to evaluation mode\n",
    "    test_loss = 0.0\n",
    "    test_accuracy = 0.0\n",
    "    accuracy_metric = torchmetrics.Accuracy(task='binary').to(device)\n",
    "\n",
    "    with torch.no_grad():  # Disable gradient computation\n",
    "        for inputs, targets in test_loader:\n",
    "            inputs, targets = inputs.to(device), targets.to(device)\n",
    "            outputs = model(inputs).squeeze()\n",
    "            \n",
    "            # Compute loss\n",
    "            loss = criterion(outputs, targets)\n",
    "            test_loss += loss.item() * inputs.size(0)\n",
    "            \n",
    "            # Compute accuracy\n",
    "            preds = (outputs > 0.5).float()  # For BCE loss, threshold at 0.5\n",
    "            accuracy = accuracy_metric(preds, targets)\n",
    "            test_accuracy += accuracy.item() * inputs.size(0)\n",
    "\n",
    "\n",
    "    y_test = targets.cpu().numpy().astype(int)\n",
    "    y_pred= preds.cpu().numpy().astype(int)\n",
    "    \n",
    "    cm_lr = confusion_matrix(y_test, y_pred)\n",
    "\n",
    "    disp_lr = ConfusionMatrixDisplay(confusion_matrix=cm_lr)\n",
    "    disp_lr.plot()\n",
    "    plt.title(\"Confusion Matrix\")\n",
    "    plt.show()\n",
    "    \n",
    "    \n",
    "    accuracy_lr_f1 = accuracy_score(y_test, y_pred)\n",
    "    precision_lr_f1 = precision_score(y_test, y_pred)\n",
    "    recall_lr_f1 = recall_score(y_test, y_pred)\n",
    "    f1_lr_f1 = f1_score(y_test, y_pred)\n",
    "    \n",
    "    \n",
    "    print(f\"Logistic Regression Metrics:\")\n",
    "    print(f\"Accuracy: {accuracy_lr_f1:.4f}\")\n",
    "    print(f\"Precision: {precision_lr_f1:.4f}\")\n",
    "    print(f\"Recall: {recall_lr_f1:.4f}\")\n",
    "    print(f\"F1 Score: {f1_lr_f1:.4f}\")\n",
    "    # Compute average loss and accuracy\n",
    "    test_loss = test_loss / len(test_loader.dataset)\n",
    "    test_accuracy = test_accuracy / len(test_loader.dataset)\n",
    "\n",
    "    print(f'Test Loss: {test_loss:.4f}, Test Accuracy: {test_accuracy:.4f}')\n",
    "    return test_loss, test_accuracy"
   ]
  },
  {
   "cell_type": "markdown",
   "id": "f5bc66590fd4ff8e",
   "metadata": {},
   "source": [
    "## K. BCE Loss Model"
   ]
  },
  {
   "cell_type": "markdown",
   "id": "af8288ea325080d1",
   "metadata": {},
   "source": [
    "### K.1 - Model Initialization, Loss Function and Optimizer utilizing BCE Loss Function"
   ]
  },
  {
   "cell_type": "code",
   "execution_count": 14,
   "id": "52ea09f81997f4bd",
   "metadata": {
    "ExecuteTime": {
     "end_time": "2025-02-24T15:55:46.798874Z",
     "start_time": "2025-02-24T15:55:39.666168Z"
    },
    "scrolled": true
   },
   "outputs": [
    {
     "name": "stdout",
     "output_type": "stream",
     "text": [
      "Epoch [1/50], Train Loss: 0.6871, Train Accuracy: 0.8231, Val Loss: 0.6777, Val Accuracy: 0.8545\n",
      "Epoch [2/50], Train Loss: 0.6596, Train Accuracy: 0.8533, Val Loss: 0.6468, Val Accuracy: 0.8545\n",
      "Epoch [3/50], Train Loss: 0.6128, Train Accuracy: 0.8620, Val Loss: 0.5999, Val Accuracy: 0.8545\n",
      "Epoch [4/50], Train Loss: 0.5473, Train Accuracy: 0.8727, Val Loss: 0.5314, Val Accuracy: 0.8545\n",
      "Epoch [5/50], Train Loss: 0.4807, Train Accuracy: 0.8707, Val Loss: 0.4555, Val Accuracy: 0.8818\n",
      "Epoch [6/50], Train Loss: 0.4276, Train Accuracy: 0.8581, Val Loss: 0.4153, Val Accuracy: 0.8909\n",
      "Epoch [7/50], Train Loss: 0.3910, Train Accuracy: 0.8591, Val Loss: 0.3702, Val Accuracy: 0.8864\n",
      "Epoch [8/50], Train Loss: 0.3679, Train Accuracy: 0.8717, Val Loss: 0.3577, Val Accuracy: 0.8818\n",
      "Epoch [9/50], Train Loss: 0.3467, Train Accuracy: 0.8746, Val Loss: 0.3472, Val Accuracy: 0.8864\n",
      "Epoch [10/50], Train Loss: 0.3429, Train Accuracy: 0.8678, Val Loss: 0.3327, Val Accuracy: 0.8818\n",
      "Epoch [11/50], Train Loss: 0.3279, Train Accuracy: 0.8746, Val Loss: 0.3325, Val Accuracy: 0.9091\n",
      "Epoch [12/50], Train Loss: 0.3233, Train Accuracy: 0.8776, Val Loss: 0.3314, Val Accuracy: 0.9045\n",
      "Epoch [13/50], Train Loss: 0.3240, Train Accuracy: 0.8756, Val Loss: 0.3320, Val Accuracy: 0.8864\n",
      "Epoch [14/50], Train Loss: 0.3225, Train Accuracy: 0.8795, Val Loss: 0.3413, Val Accuracy: 0.8773\n",
      "Epoch [15/50], Train Loss: 0.3213, Train Accuracy: 0.8776, Val Loss: 0.3385, Val Accuracy: 0.8818\n",
      "Epoch [16/50], Train Loss: 0.3125, Train Accuracy: 0.8824, Val Loss: 0.3302, Val Accuracy: 0.8818\n",
      "Epoch [17/50], Train Loss: 0.3125, Train Accuracy: 0.8785, Val Loss: 0.3266, Val Accuracy: 0.8818\n",
      "Epoch [18/50], Train Loss: 0.3065, Train Accuracy: 0.8756, Val Loss: 0.3298, Val Accuracy: 0.8864\n",
      "Epoch [19/50], Train Loss: 0.3146, Train Accuracy: 0.8776, Val Loss: 0.3318, Val Accuracy: 0.8818\n",
      "Epoch [20/50], Train Loss: 0.3177, Train Accuracy: 0.8707, Val Loss: 0.3444, Val Accuracy: 0.8955\n",
      "Epoch [21/50], Train Loss: 0.3105, Train Accuracy: 0.8776, Val Loss: 0.3394, Val Accuracy: 0.8864\n",
      "Epoch [22/50], Train Loss: 0.3185, Train Accuracy: 0.8766, Val Loss: 0.3368, Val Accuracy: 0.8909\n",
      "Early stopping at epoch 22 (no improvement for 5 epochs).\n",
      "Loaded the best model weights.\n"
     ]
    },
    {
     "data": {
      "image/png": "[encoded data removed]",
      "text/plain": [
       "<Figure size 640x480 with 2 Axes>"
      ]
     },
     "metadata": {},
     "output_type": "display_data"
    },
    {
     "name": "stdout",
     "output_type": "stream",
     "text": [
      "Logistic Regression Metrics:\n",
      "Accuracy: 0.8966\n",
      "Precision: 0.5000\n",
      "Recall: 0.3333\n",
      "F1 Score: 0.4000\n",
      "Test Loss: 0.2977, Test Accuracy: 0.8824\n"
     ]
    }
   ],
   "source": [
    "model = MLP().to(device)\n",
    "\n",
    "# Apply weight initialization (optional)\n",
    "initialize_weights(model, method='normal', mean=0.0, std=0.01)  # Example: Normal initialization\n",
    "# initialize_weights(model)  # Uncomment to skip initialization\n",
    "\n",
    "# Initialize loss function and optimizer\n",
    "criterion = custom_bce_loss  # Or custom_hinge_loss, depending on your choice\n",
    "optimizer = optim.Adam(model.parameters(), lr=0.001, weight_decay=1e-5)\n",
    "\n",
    "# Train the model with early stopping\n",
    "train_losses, val_losses, train_accuracies, val_accuracies = train_model(\n",
    "    model, train_loader, val_loader, criterion, optimizer, num_epochs=50, patience=5\n",
    ")\n",
    "\n",
    "# Evaluate the model on the test set\n",
    "test_loss, test_accuracy = evaluate_model(model, test_loader, criterion)\n",
    "\n",
    "# Plotting training and validation losses\n",
    "plt.figure(figsize=(12, 6))\n",
    "\n",
    "# Plot losses\n",
    "plt.subplot(1, 2, 1)\n",
    "plt.plot(train_losses, label='Train Loss')\n",
    "plt.plot(val_losses, label='Validation Loss')\n",
    "plt.xlabel('Epochs')\n",
    "plt.ylabel('Loss')\n",
    "plt.title('Training and Validation Loss Curves')\n",
    "plt.legend()\n",
    "\n",
    "# Plot accuracies\n",
    "plt.subplot(1, 2, 2)\n",
    "plt.plot(train_accuracies, label='Train Accuracy')\n",
    "plt.plot(val_accuracies, label='Validation Accuracy')\n",
    "plt.xlabel('Epochs')\n",
    "plt.ylabel('Accuracy')\n",
    "plt.title('Training and Validation Accuracy Curves')\n",
    "plt.legend()\n",
    "\n",
    "plt.tight_layout()\n",
    "plt.show()"
   ]
  },
  {
   "cell_type": "markdown",
   "id": "bca84f18e90e0b28",
   "metadata": {},
   "source": [
    "### K.2 - Plotting Model for BCE Loss"
   ]
  },
  {
   "cell_type": "markdown",
   "id": "5e235cc7e7c5cd95",
   "metadata": {},
   "source": [
    "## L. Hinge Loss Model"
   ]
  },
  {
   "cell_type": "markdown",
   "id": "65cf78f27fd47b9c",
   "metadata": {},
   "source": [
    "### L.1 - Model Initialization, Loss Function and Optimizer utilizing Hinge Loss Function"
   ]
  },
  {
   "cell_type": "code",
   "execution_count": 16,
   "id": "67f7f551fead729d",
   "metadata": {
    "ExecuteTime": {
     "end_time": "2025-02-24T15:55:53.125302Z",
     "start_time": "2025-02-24T15:55:47.230924Z"
    }
   },
   "outputs": [
    {
     "name": "stdout",
     "output_type": "stream",
     "text": [
      "Epoch [1/50], Train Loss: 1.3261, Train Accuracy: 0.8047, Val Loss: 1.3470, Val Accuracy: 0.8545\n",
      "Epoch [2/50], Train Loss: 1.3125, Train Accuracy: 0.8523, Val Loss: 1.3308, Val Accuracy: 0.8545\n",
      "Epoch [3/50], Train Loss: 1.2853, Train Accuracy: 0.8630, Val Loss: 1.3025, Val Accuracy: 0.8545\n",
      "Epoch [4/50], Train Loss: 1.2420, Train Accuracy: 0.8756, Val Loss: 1.2584, Val Accuracy: 0.8545\n",
      "Epoch [5/50], Train Loss: 1.1899, Train Accuracy: 0.8688, Val Loss: 1.1939, Val Accuracy: 0.8773\n",
      "Epoch [6/50], Train Loss: 1.1389, Train Accuracy: 0.8649, Val Loss: 1.1397, Val Accuracy: 0.9000\n",
      "Epoch [7/50], Train Loss: 1.0978, Train Accuracy: 0.8649, Val Loss: 1.1055, Val Accuracy: 0.8773\n",
      "Epoch [8/50], Train Loss: 1.0663, Train Accuracy: 0.8678, Val Loss: 1.0711, Val Accuracy: 0.8909\n",
      "Epoch [9/50], Train Loss: 1.0456, Train Accuracy: 0.8678, Val Loss: 1.0435, Val Accuracy: 0.8864\n",
      "Epoch [10/50], Train Loss: 1.0246, Train Accuracy: 0.8717, Val Loss: 1.0244, Val Accuracy: 0.8818\n",
      "Epoch [11/50], Train Loss: 1.0177, Train Accuracy: 0.8620, Val Loss: 1.0245, Val Accuracy: 0.8955\n",
      "Epoch [12/50], Train Loss: 1.0077, Train Accuracy: 0.8630, Val Loss: 1.0163, Val Accuracy: 0.8955\n",
      "Epoch [13/50], Train Loss: 0.9971, Train Accuracy: 0.8746, Val Loss: 1.0057, Val Accuracy: 0.8864\n",
      "Epoch [14/50], Train Loss: 0.9961, Train Accuracy: 0.8717, Val Loss: 0.9999, Val Accuracy: 0.8909\n",
      "Epoch [15/50], Train Loss: 0.9892, Train Accuracy: 0.8766, Val Loss: 0.9945, Val Accuracy: 0.8864\n",
      "Epoch [16/50], Train Loss: 0.9895, Train Accuracy: 0.8717, Val Loss: 0.9918, Val Accuracy: 0.8818\n",
      "Epoch [17/50], Train Loss: 0.9892, Train Accuracy: 0.8649, Val Loss: 0.9888, Val Accuracy: 0.8864\n",
      "Epoch [18/50], Train Loss: 0.9833, Train Accuracy: 0.8678, Val Loss: 0.9858, Val Accuracy: 0.9000\n",
      "Epoch [19/50], Train Loss: 0.9823, Train Accuracy: 0.8717, Val Loss: 0.9891, Val Accuracy: 0.8864\n",
      "Epoch [20/50], Train Loss: 0.9741, Train Accuracy: 0.8795, Val Loss: 0.9832, Val Accuracy: 0.8909\n",
      "Epoch [21/50], Train Loss: 0.9734, Train Accuracy: 0.8785, Val Loss: 0.9825, Val Accuracy: 0.8955\n",
      "Epoch [22/50], Train Loss: 0.9757, Train Accuracy: 0.8746, Val Loss: 0.9828, Val Accuracy: 0.8864\n",
      "Epoch [23/50], Train Loss: 0.9722, Train Accuracy: 0.8834, Val Loss: 0.9800, Val Accuracy: 0.9000\n",
      "Epoch [24/50], Train Loss: 0.9686, Train Accuracy: 0.8824, Val Loss: 0.9830, Val Accuracy: 0.8909\n",
      "Epoch [25/50], Train Loss: 0.9673, Train Accuracy: 0.8785, Val Loss: 0.9809, Val Accuracy: 0.8818\n",
      "Epoch [26/50], Train Loss: 0.9667, Train Accuracy: 0.8766, Val Loss: 0.9781, Val Accuracy: 0.8909\n",
      "Epoch [27/50], Train Loss: 0.9635, Train Accuracy: 0.8902, Val Loss: 0.9790, Val Accuracy: 0.8909\n",
      "Epoch [28/50], Train Loss: 0.9632, Train Accuracy: 0.8805, Val Loss: 0.9765, Val Accuracy: 0.9000\n",
      "Epoch [29/50], Train Loss: 0.9709, Train Accuracy: 0.8766, Val Loss: 0.9839, Val Accuracy: 0.8773\n",
      "Epoch [30/50], Train Loss: 0.9660, Train Accuracy: 0.8824, Val Loss: 0.9857, Val Accuracy: 0.8773\n",
      "Epoch [31/50], Train Loss: 0.9603, Train Accuracy: 0.8844, Val Loss: 0.9804, Val Accuracy: 0.8818\n",
      "Epoch [32/50], Train Loss: 0.9647, Train Accuracy: 0.8824, Val Loss: 0.9778, Val Accuracy: 0.8773\n",
      "Epoch [33/50], Train Loss: 0.9613, Train Accuracy: 0.8805, Val Loss: 0.9749, Val Accuracy: 0.8864\n",
      "Epoch [34/50], Train Loss: 0.9599, Train Accuracy: 0.8853, Val Loss: 0.9730, Val Accuracy: 0.8818\n",
      "Epoch [35/50], Train Loss: 0.9611, Train Accuracy: 0.8785, Val Loss: 0.9738, Val Accuracy: 0.8864\n",
      "Epoch [36/50], Train Loss: 0.9613, Train Accuracy: 0.8834, Val Loss: 0.9739, Val Accuracy: 0.8818\n",
      "Epoch [37/50], Train Loss: 0.9566, Train Accuracy: 0.8882, Val Loss: 0.9729, Val Accuracy: 0.8909\n",
      "Epoch [38/50], Train Loss: 0.9585, Train Accuracy: 0.8873, Val Loss: 0.9704, Val Accuracy: 0.8955\n",
      "Epoch [39/50], Train Loss: 0.9593, Train Accuracy: 0.8766, Val Loss: 0.9716, Val Accuracy: 0.9000\n",
      "Epoch [40/50], Train Loss: 0.9548, Train Accuracy: 0.8921, Val Loss: 0.9743, Val Accuracy: 0.8864\n",
      "Epoch [41/50], Train Loss: 0.9592, Train Accuracy: 0.8785, Val Loss: 0.9702, Val Accuracy: 0.9091\n",
      "Epoch [42/50], Train Loss: 0.9580, Train Accuracy: 0.8795, Val Loss: 0.9693, Val Accuracy: 0.9045\n",
      "Epoch [43/50], Train Loss: 0.9639, Train Accuracy: 0.8746, Val Loss: 0.9737, Val Accuracy: 0.8818\n",
      "Epoch [44/50], Train Loss: 0.9536, Train Accuracy: 0.8882, Val Loss: 0.9719, Val Accuracy: 0.8909\n",
      "Epoch [45/50], Train Loss: 0.9479, Train Accuracy: 0.8931, Val Loss: 0.9702, Val Accuracy: 0.8909\n",
      "Epoch [46/50], Train Loss: 0.9536, Train Accuracy: 0.8863, Val Loss: 0.9698, Val Accuracy: 0.8818\n",
      "Epoch [47/50], Train Loss: 0.9491, Train Accuracy: 0.8941, Val Loss: 0.9690, Val Accuracy: 0.9045\n",
      "Epoch [48/50], Train Loss: 0.9540, Train Accuracy: 0.8873, Val Loss: 0.9692, Val Accuracy: 0.8864\n",
      "Epoch [49/50], Train Loss: 0.9532, Train Accuracy: 0.8834, Val Loss: 0.9740, Val Accuracy: 0.8864\n",
      "Epoch [50/50], Train Loss: 0.9511, Train Accuracy: 0.8921, Val Loss: 0.9694, Val Accuracy: 0.8909\n",
      "Loaded the best model weights.\n"
     ]
    },
    {
     "data": {
      "image/png": "[encoded data removed]",
      "text/plain": [
       "<Figure size 640x480 with 2 Axes>"
      ]
     },
     "metadata": {},
     "output_type": "display_data"
    },
    {
     "name": "stdout",
     "output_type": "stream",
     "text": [
      "Logistic Regression Metrics:\n",
      "Accuracy: 0.8966\n",
      "Precision: 0.5000\n",
      "Recall: 0.3333\n",
      "F1 Score: 0.4000\n",
      "Test Loss: 0.9988, Test Accuracy: 0.8778\n"
     ]
    }
   ],
   "source": [
    "model = MLP().to(device)\n",
    "\n",
    "# Apply weight initialization (optional)\n",
    "initialize_weights(model, method='normal', mean=0.0, std=0.01)  # Example: Normal initialization\n",
    "# initialize_weights(model)  # Uncomment to skip initialization\n",
    "\n",
    "# Initialize loss function and optimizer\n",
    "criterion = custom_hinge_loss\n",
    "optimizer = optim.Adam(model.parameters(), lr=0.001, weight_decay=1e-5)\n",
    "\n",
    "# Train the model with early stopping\n",
    "train_losses, val_losses, train_accuracies, val_accuracies = train_model(\n",
    "    model, train_loader, val_loader, criterion, optimizer, num_epochs=50, patience=5\n",
    ")\n",
    "\n",
    "# Evaluate the model on the test set\n",
    "test_loss, test_accuracy = evaluate_model(model, test_loader, criterion)\n",
    "\n",
    "# Plotting training and validation losses\n",
    "plt.figure(figsize=(12, 6))\n",
    "\n",
    "# Plot losses\n",
    "plt.subplot(1, 2, 1)\n",
    "plt.plot(train_losses, label='Train Loss')\n",
    "plt.plot(val_losses, label='Validation Loss')\n",
    "plt.xlabel('Epochs')\n",
    "plt.ylabel('Loss')\n",
    "plt.title('Training and Validation Loss Curves')\n",
    "plt.legend()\n",
    "\n",
    "# Plot accuracies\n",
    "plt.subplot(1, 2, 2)\n",
    "plt.plot(train_accuracies, label='Train Accuracy')\n",
    "plt.plot(val_accuracies, label='Validation Accuracy')\n",
    "plt.xlabel('Epochs')\n",
    "plt.ylabel('Accuracy')\n",
    "plt.title('Training and Validation Accuracy Curves')\n",
    "plt.legend()\n",
    "\n",
    "plt.tight_layout()\n",
    "plt.show()"
   ]
  },
  {
   "cell_type": "code",
   "execution_count": 17,
   "id": "2631b8b2-c4e2-4b34-8194-2e7e548fb943",
   "metadata": {
    "ExecuteTime": {
     "end_time": "2025-02-24T15:55:53.441651Z",
     "start_time": "2025-02-24T15:55:53.148482Z"
    }
   },
   "outputs": [
    {
     "data": {
      "image/png": "[encoded data removed]",
      "text/plain": [
       "<Figure size 1200x600 with 2 Axes>"
      ]
     },
     "metadata": {},
     "output_type": "display_data"
    }
   ],
   "source": []
  },
  {
   "cell_type": "markdown",
   "id": "5787fe5e-9843-4300-94ea-c633a556b707",
   "metadata": {},
   "source": [
    "## M. KL Divergance"
   ]
  },
  {
   "cell_type": "code",
   "execution_count": null,
   "id": "954c6a78-3bd0-449a-9e56-212b0b16e1d6",
   "metadata": {},
   "outputs": [],
   "source": [
    "### M.1 - Model Initialization, Loss Function and Optimizer utilizing KL Divergance Loss Function"
   ]
  },
  {
   "cell_type": "code",
   "execution_count": null,
   "id": "9aa4f18a-9906-43d0-ac7f-57c1a0d965d8",
   "metadata": {},
   "outputs": [],
   "source": [
    "model = MLP().to(device)\n",
    "\n",
    "# Apply weight initialization (optional)\n",
    "initialize_weights(model, method='normal', mean=0.0, std=0.01)  # Example: Normal initialization\n",
    "# initialize_weights(model)  # Uncomment to skip initialization\n",
    "\n",
    "# Initialize loss function and optimizer\n",
    "criterion = custom_kl_divergence\n",
    "optimizer = optim.Adam(model.parameters(), lr=0.001, weight_decay=1e-5)\n",
    "\n",
    "# Train the model with early stopping\n",
    "train_losses, val_losses, train_accuracies, val_accuracies = train_model(\n",
    "    model, train_loader, val_loader, criterion, optimizer, num_epochs=50, patience=5\n",
    ")\n",
    "\n",
    "# Evaluate the model on the test set\n",
    "test_loss, test_accuracy = evaluate_model(model, test_loader, criterion)\n",
    "\n",
    "# Plotting training and validation losses\n",
    "plt.figure(figsize=(12, 6))\n",
    "\n",
    "# Plot losses\n",
    "plt.subplot(1, 2, 1)\n",
    "plt.plot(train_losses, label='Train Loss')\n",
    "plt.plot(val_losses, label='Validation Loss')\n",
    "plt.xlabel('Epochs')\n",
    "plt.ylabel('Loss')\n",
    "plt.title('Training and Validation Loss Curves')\n",
    "plt.legend()\n",
    "\n",
    "# Plot accuracies\n",
    "plt.subplot(1, 2, 2)\n",
    "plt.plot(train_accuracies, label='Train Accuracy')\n",
    "plt.plot(val_accuracies, label='Validation Accuracy')\n",
    "plt.xlabel('Epochs')\n",
    "plt.ylabel('Accuracy')\n",
    "plt.title('Training and Validation Accuracy Curves')\n",
    "plt.legend()\n",
    "\n",
    "plt.tight_layout()\n",
    "plt.show()"
   ]
  },
  {
   "cell_type": "code",
   "execution_count": null,
   "id": "f7123958-186e-4fb8-a211-72b2b6fb8001",
   "metadata": {},
   "outputs": [],
   "source": [
    "\n"
   ]
  }
 ],
 "metadata": {
  "kernelspec": {
   "display_name": "Python 3 (ipykernel)",
   "language": "python",
   "name": "python3"
  },
  "language_info": {
   "codemirror_mode": {
    "name": "ipython",
    "version": 3
   },
   "file_extension": ".py",
   "mimetype": "text/x-python",
   "name": "python",
   "nbconvert_exporter": "python",
   "pygments_lexer": "ipython3",
   "version": "3.12.9"
  }
 },
 "nbformat": 4,
 "nbformat_minor": 5
}
