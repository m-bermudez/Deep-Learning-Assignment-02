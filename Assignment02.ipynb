{
 "cells": [
  {
   "cell_type": "markdown",
   "id": "32959045669ff751",
   "metadata": {},
   "source": [
    "# Assignment 02 - Team Galaxy\n",
    "### Collaborators: Alvaro Montoya Ruiz, Hriday Reddy Purma, Mauricio Bermudez"
   ]
  },
  {
   "cell_type": "markdown",
   "id": "85674a01aa1f04ba",
   "metadata": {},
   "source": [
    "### A. Library Imports\n"
   ]
  },
  {
   "cell_type": "code",
   "execution_count": 1,
   "id": "58bf3674101fe2d6",
   "metadata": {
    "ExecuteTime": {
     "end_time": "2025-02-24T03:12:41.176266Z",
     "start_time": "2025-02-24T03:12:36.750181Z"
    }
   },
   "outputs": [],
   "source": [
    "import torch\n",
    "import torchmetrics\n",
    "import pandas as pd\n",
    "import matplotlib.pyplot as plt\n",
    "from sklearn.preprocessing import LabelEncoder, StandardScaler\n",
    "from sklearn.model_selection import train_test_split\n",
    "from torch.utils.data import DataLoader, TensorDataset, random_split\n",
    "from torch import nn, optim"
   ]
  },
  {
   "cell_type": "markdown",
   "id": "b909aca43f16f4dd",
   "metadata": {},
   "source": [
    "### B. Setting device and processing/cleaning the data\n",
    "\n",
    "The Dataset used for this assigmnent was retrieved from __________. The objective of the model is to predictive employee retention based on data as : _________   . "
   ]
  },
  {
   "cell_type": "code",
   "execution_count": 2,
   "id": "9d426aa8f1ef5b5",
   "metadata": {
    "ExecuteTime": {
     "end_time": "2025-02-24T03:12:41.538990Z",
     "start_time": "2025-02-24T03:12:41.179268Z"
    }
   },
   "outputs": [],
   "source": [
    "# Set device\n",
    "device = torch.device('cuda' if torch.cuda.is_available() else 'cpu')\n",
    "\n",
    "# Load dataset\n",
    "url = 'https://raw.githubusercontent.com/m-bermudez/ISM6561-Deep-Learning/refs/heads/main/EmployeeAttrition.csv'\n",
    "df = pd.read_csv(url)\n",
    "\n",
    "# Data cleaning and preprocessing\n",
    "df = df.dropna()  # Drop missing values"
   ]
  },
  {
   "cell_type": "markdown",
   "id": "290ae092ed78780e",
   "metadata": {},
   "source": [
    "### C. Encoding the data\n",
    "\n",
    "the categorical data was encoding using one hot dummies for the nominal columns and a mapping for ordinal columns such as well binary data"
   ]
  },
  {
   "cell_type": "code",
   "execution_count": 3,
   "id": "1e37a2633f6ec6d7",
   "metadata": {
    "ExecuteTime": {
     "end_time": "2025-02-24T03:12:41.684067Z",
     "start_time": "2025-02-24T03:12:41.662601Z"
    }
   },
   "outputs": [],
   "source": [
    "# Ordinal Mapping for 'BusinessTravel' column\n",
    "business_travel_mapping = {\n",
    "    'Non-Travel': 0,\n",
    "    'Travel_Rarely': 1,\n",
    "    'Travel_Frequently': 2\n",
    "}\n",
    "df['BusinessTravel'] = df['BusinessTravel'].map(business_travel_mapping)\n",
    "\n",
    "# One-Hot Encoding for Nominal Columns\n",
    "nominal_columns = [\n",
    "    'Department',\n",
    "    'EducationField',\n",
    "    'Gender',\n",
    "    'JobRole',\n",
    "    'MaritalStatus'\n",
    "]\n",
    "df = pd.get_dummies(df, columns=nominal_columns, drop_first=True)\n",
    "\n",
    "# Binary Encoding for 'Over18', 'Overtime', and 'Attrition'\n",
    "df['Over18'] = df['Over18'].map({'Y': 1, 'N': 0})\n",
    "df['OverTime'] = df['OverTime'].map({'Yes': 1, 'No': 0})\n",
    "df['Attrition'] = df['Attrition'].map({'Yes': 1, 'No': 0})\n",
    "\n",
    "# Drop 'EmployeeCount' and 'EmployeeNumber' columns\n",
    "df = df.drop(columns=['EmployeeCount', 'EmployeeNumber'])\n",
    "\n",
    "# Ensure all columns are numeric and of type float32\n",
    "df = df.apply(pd.to_numeric, errors='coerce').astype('float32')"
   ]
  },
  {
   "cell_type": "markdown",
   "id": "8a0a099b24ef2ef8",
   "metadata": {},
   "source": [
    "### D. Defining features and normalizing data"
   ]
  },
  {
   "cell_type": "code",
   "execution_count": 4,
   "id": "3dc6098beeb732c1",
   "metadata": {
    "ExecuteTime": {
     "end_time": "2025-02-24T03:12:41.710801Z",
     "start_time": "2025-02-24T03:12:41.698491Z"
    }
   },
   "outputs": [],
   "source": [
    "# Define features and target\n",
    "X = df.drop('Attrition', axis=1)\n",
    "y = df['Attrition']\n",
    "\n",
    "# Normalize the data\n",
    "scaler = StandardScaler()\n",
    "X = scaler.fit_transform(X)\n",
    "\n",
    "# Split dataset\n",
    "X_train, X_temp, y_train, y_temp = train_test_split(X, y, test_size=0.3, random_state=42)\n",
    "X_val, X_test, y_val, y_test = train_test_split(X_temp, y_temp, test_size=0.5, random_state=42)"
   ]
  },
  {
   "cell_type": "markdown",
   "id": "57be0939bf9d2121",
   "metadata": {},
   "source": [
    "### E. Tensor Conversion"
   ]
  },
  {
   "cell_type": "code",
   "execution_count": 5,
   "id": "ccc7572cf2575625",
   "metadata": {
    "ExecuteTime": {
     "end_time": "2025-02-24T03:12:41.744737Z",
     "start_time": "2025-02-24T03:12:41.728169Z"
    }
   },
   "outputs": [],
   "source": [
    "# Convert to tensors\n",
    "X_train = torch.tensor(X_train, dtype=torch.float32)\n",
    "X_val = torch.tensor(X_val, dtype=torch.float32)\n",
    "X_test = torch.tensor(X_test, dtype=torch.float32)\n",
    "y_train = torch.tensor(y_train.values, dtype=torch.float32)\n",
    "y_val = torch.tensor(y_val.values, dtype=torch.float32)\n",
    "y_test = torch.tensor(y_test.values, dtype=torch.float32)\n",
    "\n",
    "# Create DataLoaders\n",
    "batch_size = 64\n",
    "#batch_size = 128\n",
    "#batch_size = 32\n",
    "train_dataset = TensorDataset(X_train, y_train)\n",
    "val_dataset = TensorDataset(X_val, y_val)\n",
    "test_dataset = TensorDataset(X_test, y_test)\n",
    "train_loader = DataLoader(train_dataset, batch_size=batch_size, shuffle=True)\n",
    "val_loader = DataLoader(val_dataset, batch_size=batch_size)\n",
    "test_loader = DataLoader(test_dataset, batch_size=batch_size)"
   ]
  },
  {
   "cell_type": "markdown",
   "id": "dc25fa9f313cfd03",
   "metadata": {},
   "source": [
    "### F. Defining Neural Network"
   ]
  },
  {
   "cell_type": "code",
   "execution_count": 6,
   "id": "initial_id",
   "metadata": {
    "ExecuteTime": {
     "end_time": "2025-02-24T03:12:41.818775Z",
     "start_time": "2025-02-24T03:12:41.812408Z"
    }
   },
   "outputs": [],
   "source": [
    "# Define the neural network\n",
    "class MLP(nn.Module):\n",
    "    def __init__(self, input_size=None):\n",
    "        super(MLP, self).__init__()\n",
    "        if input_size is None:\n",
    "            input_size = X_train.shape[1]\n",
    "        self.fc1 = nn.Linear(input_size, 64)\n",
    "        self.bn1 = nn.BatchNorm1d(64)\n",
    "        self.fc2 = nn.Linear(64, 128)\n",
    "        self.bn2 = nn.BatchNorm1d(128)\n",
    "        self.fc3 = nn.Linear(128, 64)\n",
    "        self.bn3 = nn.BatchNorm1d(64)\n",
    "        self.fc4 = nn.Linear(64, 1)\n",
    "        self.elu = nn.ELU()\n",
    "        self.sigmoid = nn.Sigmoid()\n",
    "        self.dropout = nn.Dropout(0.5)\n",
    "\n",
    "    def forward(self, x):\n",
    "        # Layer 1\n",
    "        x = self.fc1(x)\n",
    "        x = self.bn1(x)\n",
    "        x = self.elu(x)  # ELU after batch normalization\n",
    "        x = self.dropout(x)\n",
    "        \n",
    "        # Layer 2\n",
    "        x = self.fc2(x)\n",
    "        x = self.bn2(x)\n",
    "        x = self.elu(x)  \n",
    "        x = self.dropout(x)\n",
    "        \n",
    "        # Layer 3\n",
    "        x = self.fc3(x)\n",
    "        x = self.bn3(x)\n",
    "        x = self.elu(x)  \n",
    "        x = self.dropout(x)\n",
    "        \n",
    "        # Output layer\n",
    "        x = self.fc4(x)\n",
    "        x = self.sigmoid(x)  # Sigmoid for binary classification\n",
    "        return x"
   ]
  },
  {
   "cell_type": "markdown",
   "id": "a4730afb-fc81-4551-bccb-e37f74f3db9c",
   "metadata": {},
   "source": [
    "### G. Defining non trivial loss function and mathematical formulas"
   ]
  },
  {
   "cell_type": "code",
   "execution_count": null,
   "id": "dd11afcc-2334-4e33-a2bd-8d07aafde095",
   "metadata": {},
   "outputs": [],
   "source": [
    "# Custom BCE loss function\n",
    "def custom_bce_loss(outputs, targets):\n",
    "    outputs = torch.clamp(outputs, 1e-7, 1 - 1e-7)\n",
    "    bce_loss = - (targets * torch.log(outputs) + (1 - targets) * torch.log(1 - outputs))\n",
    "    return bce_loss.mean()\n"
   ]
  },
  {
   "cell_type": "code",
   "execution_count": null,
   "id": "bc3ad38b-6e9c-4898-8b10-11b356af7ca8",
   "metadata": {},
   "outputs": [],
   "source": [
    "def custom_hinge_loss(outputs, targets):\n",
    "   \n",
    "    # Ensure targets are in {-1, 1} for hinge loss\n",
    "    targets = 2 * targets - 1  # Convert {0, 1} to {-1, 1}\n",
    "    \n",
    "    # Compute hinge loss\n",
    "    hinge_loss = torch.mean(torch.clamp(1 - targets * outputs, min=0))\n",
    "    \n",
    "    return hinge_loss"
   ]
  },
  {
   "cell_type": "markdown",
   "id": "7579da635195df5d",
   "metadata": {},
   "source": [
    "### H. Defining Training Function"
   ]
  },
  {
   "cell_type": "code",
   "execution_count": 7,
   "id": "47e60d1b5a4cad57",
   "metadata": {
    "ExecuteTime": {
     "end_time": "2025-02-24T03:12:41.850060Z",
     "start_time": "2025-02-24T03:12:41.840597Z"
    }
   },
   "outputs": [],
   "source": [
    "def train_model(model, train_loader, val_loader, criterion, optimizer, num_epochs=50, patience=5):\n",
    "    train_losses, val_losses = [], []\n",
    "    train_accuracies, val_accuracies = [], []\n",
    "    accuracy_metric = torchmetrics.Accuracy(task='binary').to(device)\n",
    "\n",
    "    # Initialize variables for early stopping\n",
    "    best_val_loss = float('inf')  # Track the best validation loss\n",
    "    epochs_without_improvement = 0  # Count epochs without improvement\n",
    "    best_model_weights = None  # Save the best model weights\n",
    "\n",
    "    for epoch in range(num_epochs):\n",
    "        model.train()\n",
    "        running_loss = 0.0\n",
    "        running_accuracy = 0.0\n",
    "\n",
    "        # Training phase\n",
    "        for inputs, targets in train_loader:\n",
    "            inputs, targets = inputs.to(device), targets.to(device)\n",
    "            optimizer.zero_grad()\n",
    "            outputs = model(inputs).squeeze()\n",
    "            loss = criterion(outputs, targets)\n",
    "            loss.backward()\n",
    "            optimizer.step()\n",
    "\n",
    "            # Compute accuracy\n",
    "            preds = (outputs > 0.5).float()  # Convert probabilities to binary predictions\n",
    "            accuracy = accuracy_metric(preds, targets)\n",
    "\n",
    "            running_loss += loss.item() * inputs.size(0)\n",
    "            running_accuracy += accuracy.item() * inputs.size(0)\n",
    "\n",
    "        # Compute average loss and accuracy for the epoch\n",
    "        epoch_loss = running_loss / len(train_loader.dataset)\n",
    "        epoch_accuracy = running_accuracy / len(train_loader.dataset)\n",
    "        train_losses.append(epoch_loss)\n",
    "        train_accuracies.append(epoch_accuracy)\n",
    "\n",
    "        # Validation phase\n",
    "        model.eval()\n",
    "        val_loss = 0.0\n",
    "        val_accuracy = 0.0\n",
    "        with torch.no_grad():\n",
    "            for inputs, targets in val_loader:\n",
    "                inputs, targets = inputs.to(device), targets.to(device)\n",
    "                outputs = model(inputs).squeeze()\n",
    "                loss = criterion(outputs, targets)\n",
    "\n",
    "                # Compute accuracy\n",
    "                preds = (outputs > 0.5).float()\n",
    "                accuracy = accuracy_metric(preds, targets)\n",
    "\n",
    "                val_loss += loss.item() * inputs.size(0)\n",
    "                val_accuracy += accuracy.item() * inputs.size(0)\n",
    "\n",
    "        # Compute average validation loss and accuracy for the epoch\n",
    "        val_loss = val_loss / len(val_loader.dataset)\n",
    "        val_accuracy = val_accuracy / len(val_loader.dataset)\n",
    "        val_losses.append(val_loss)\n",
    "        val_accuracies.append(val_accuracy)\n",
    "\n",
    "        # Print epoch results\n",
    "        print(f'Epoch [{epoch+1}/{num_epochs}], '\n",
    "              f'Train Loss: {epoch_loss:.4f}, Train Accuracy: {epoch_accuracy:.4f}, '\n",
    "              f'Val Loss: {val_loss:.4f}, Val Accuracy: {val_accuracy:.4f}')\n",
    "\n",
    "        # Early stopping logic\n",
    "        if val_loss < best_val_loss:\n",
    "            best_val_loss = val_loss  # Update the best validation loss\n",
    "            epochs_without_improvement = 0  # Reset the counter\n",
    "            best_model_weights = model.state_dict()  # Save the best model weights\n",
    "        else:\n",
    "            epochs_without_improvement += 1  # Increment the counter\n",
    "\n",
    "        # Stop training if validation loss hasn't improved for `patience` epochs\n",
    "        if epochs_without_improvement >= patience:\n",
    "            print(f'Early stopping at epoch {epoch+1} (no improvement for {patience} epochs).')\n",
    "            break\n",
    "\n",
    "    # Load the best model weights\n",
    "    if best_model_weights is not None:\n",
    "        model.load_state_dict(best_model_weights)\n",
    "        print('Loaded the best model weights.')\n",
    "\n",
    "    return train_losses, val_losses, train_accuracies, val_accuracies"
   ]
  },
  {
   "cell_type": "code",
   "execution_count": null,
   "id": "d02538a5-a0a2-4827-9584-aba738499e89",
   "metadata": {},
   "outputs": [],
   "source": [
    "def evaluate_model(model, test_loader, criterion):\n",
    "    model.eval()  # Set the model to evaluation mode\n",
    "    test_loss = 0.0\n",
    "    test_accuracy = 0.0\n",
    "    accuracy_metric = torchmetrics.Accuracy(task='binary').to(device)\n",
    "\n",
    "    with torch.no_grad():  # Disable gradient computation\n",
    "        for inputs, targets in test_loader:\n",
    "            inputs, targets = inputs.to(device), targets.to(device)\n",
    "            outputs = model(inputs).squeeze()\n",
    "            \n",
    "            # Compute loss\n",
    "            loss = criterion(outputs, targets)\n",
    "            test_loss += loss.item() * inputs.size(0)\n",
    "            \n",
    "            # Compute accuracy\n",
    "            preds = (outputs > 0.5).float()  # For BCE loss, threshold at 0.5\n",
    "            accuracy = accuracy_metric(preds, targets)\n",
    "            test_accuracy += accuracy.item() * inputs.size(0)\n",
    "\n",
    "    # Compute average loss and accuracy\n",
    "    test_loss = test_loss / len(test_loader.dataset)\n",
    "    test_accuracy = test_accuracy / len(test_loader.dataset)\n",
    "\n",
    "    print(f'Test Loss: {test_loss:.4f}, Test Accuracy: {test_accuracy:.4f}')\n",
    "    return test_loss, test_accuracy"
   ]
  },
  {
   "cell_type": "markdown",
   "id": "f5bc66590fd4ff8e",
   "metadata": {},
   "source": [
    "### H. Model Initialization, Loss Function and Optimizer"
   ]
  },
  {
   "cell_type": "code",
   "execution_count": 8,
   "id": "52ea09f81997f4bd",
   "metadata": {
    "ExecuteTime": {
     "end_time": "2025-02-24T03:12:49.221593Z",
     "start_time": "2025-02-24T03:12:41.874329Z"
    }
   },
   "outputs": [
    {
     "name": "stdout",
     "output_type": "stream",
     "text": [
      "Epoch [1/50], Train Loss: 0.6226, Train Accuracy: 0.7162, Val Loss: 0.5215, Val Accuracy: 0.8591\n",
      "Epoch [2/50], Train Loss: 0.4925, Train Accuracy: 0.8280, Val Loss: 0.4030, Val Accuracy: 0.8682\n",
      "Epoch [3/50], Train Loss: 0.4121, Train Accuracy: 0.8231, Val Loss: 0.3580, Val Accuracy: 0.8682\n",
      "Epoch [4/50], Train Loss: 0.3671, Train Accuracy: 0.8397, Val Loss: 0.3416, Val Accuracy: 0.8773\n",
      "Epoch [5/50], Train Loss: 0.3708, Train Accuracy: 0.8533, Val Loss: 0.3376, Val Accuracy: 0.8955\n",
      "Epoch [6/50], Train Loss: 0.3590, Train Accuracy: 0.8542, Val Loss: 0.3391, Val Accuracy: 0.8909\n",
      "Epoch [7/50], Train Loss: 0.3274, Train Accuracy: 0.8610, Val Loss: 0.3320, Val Accuracy: 0.8818\n",
      "Epoch [8/50], Train Loss: 0.3475, Train Accuracy: 0.8610, Val Loss: 0.3292, Val Accuracy: 0.8955\n",
      "Epoch [9/50], Train Loss: 0.3463, Train Accuracy: 0.8659, Val Loss: 0.3208, Val Accuracy: 0.8955\n",
      "Epoch [10/50], Train Loss: 0.3446, Train Accuracy: 0.8717, Val Loss: 0.3221, Val Accuracy: 0.8955\n",
      "Epoch [11/50], Train Loss: 0.3271, Train Accuracy: 0.8756, Val Loss: 0.3208, Val Accuracy: 0.9045\n",
      "Epoch [12/50], Train Loss: 0.3322, Train Accuracy: 0.8795, Val Loss: 0.3238, Val Accuracy: 0.9045\n",
      "Epoch [13/50], Train Loss: 0.3206, Train Accuracy: 0.8727, Val Loss: 0.3271, Val Accuracy: 0.9045\n",
      "Epoch [14/50], Train Loss: 0.3208, Train Accuracy: 0.8649, Val Loss: 0.3350, Val Accuracy: 0.9000\n",
      "Epoch [15/50], Train Loss: 0.3235, Train Accuracy: 0.8814, Val Loss: 0.3296, Val Accuracy: 0.8909\n",
      "Epoch [16/50], Train Loss: 0.3310, Train Accuracy: 0.8649, Val Loss: 0.3259, Val Accuracy: 0.8955\n",
      "Epoch [17/50], Train Loss: 0.3157, Train Accuracy: 0.8814, Val Loss: 0.3221, Val Accuracy: 0.9000\n",
      "Epoch [18/50], Train Loss: 0.3122, Train Accuracy: 0.8853, Val Loss: 0.3197, Val Accuracy: 0.9045\n",
      "Epoch [19/50], Train Loss: 0.3111, Train Accuracy: 0.8776, Val Loss: 0.3227, Val Accuracy: 0.8955\n",
      "Epoch [20/50], Train Loss: 0.3256, Train Accuracy: 0.8756, Val Loss: 0.3234, Val Accuracy: 0.9091\n",
      "Epoch [21/50], Train Loss: 0.3164, Train Accuracy: 0.8776, Val Loss: 0.3224, Val Accuracy: 0.9045\n",
      "Epoch [22/50], Train Loss: 0.3174, Train Accuracy: 0.8756, Val Loss: 0.3240, Val Accuracy: 0.8955\n",
      "Epoch [23/50], Train Loss: 0.3186, Train Accuracy: 0.8795, Val Loss: 0.3245, Val Accuracy: 0.9045\n",
      "Epoch [24/50], Train Loss: 0.3189, Train Accuracy: 0.8853, Val Loss: 0.3200, Val Accuracy: 0.9045\n",
      "Epoch [25/50], Train Loss: 0.3138, Train Accuracy: 0.8805, Val Loss: 0.3172, Val Accuracy: 0.8955\n",
      "Epoch [26/50], Train Loss: 0.3107, Train Accuracy: 0.8863, Val Loss: 0.3185, Val Accuracy: 0.8864\n",
      "Epoch [27/50], Train Loss: 0.2991, Train Accuracy: 0.8844, Val Loss: 0.3253, Val Accuracy: 0.8955\n",
      "Epoch [28/50], Train Loss: 0.2900, Train Accuracy: 0.8814, Val Loss: 0.3346, Val Accuracy: 0.8909\n",
      "Epoch [29/50], Train Loss: 0.3062, Train Accuracy: 0.8844, Val Loss: 0.3303, Val Accuracy: 0.8955\n",
      "Epoch [30/50], Train Loss: 0.3089, Train Accuracy: 0.8814, Val Loss: 0.3210, Val Accuracy: 0.8955\n",
      "Epoch [31/50], Train Loss: 0.3085, Train Accuracy: 0.8805, Val Loss: 0.3195, Val Accuracy: 0.9000\n",
      "Epoch [32/50], Train Loss: 0.3059, Train Accuracy: 0.8912, Val Loss: 0.3207, Val Accuracy: 0.9000\n",
      "Epoch [33/50], Train Loss: 0.3091, Train Accuracy: 0.8902, Val Loss: 0.3195, Val Accuracy: 0.9045\n",
      "Epoch [34/50], Train Loss: 0.3091, Train Accuracy: 0.8776, Val Loss: 0.3232, Val Accuracy: 0.9000\n",
      "Epoch [35/50], Train Loss: 0.2908, Train Accuracy: 0.8853, Val Loss: 0.3182, Val Accuracy: 0.9045\n",
      "Epoch [36/50], Train Loss: 0.2931, Train Accuracy: 0.8882, Val Loss: 0.3207, Val Accuracy: 0.8955\n",
      "Epoch [37/50], Train Loss: 0.2986, Train Accuracy: 0.8873, Val Loss: 0.3201, Val Accuracy: 0.9091\n",
      "Epoch [38/50], Train Loss: 0.3095, Train Accuracy: 0.8863, Val Loss: 0.3210, Val Accuracy: 0.9000\n",
      "Epoch [39/50], Train Loss: 0.3017, Train Accuracy: 0.8824, Val Loss: 0.3164, Val Accuracy: 0.8909\n",
      "Epoch [40/50], Train Loss: 0.2755, Train Accuracy: 0.8921, Val Loss: 0.3176, Val Accuracy: 0.9091\n",
      "Epoch [41/50], Train Loss: 0.2941, Train Accuracy: 0.8902, Val Loss: 0.3179, Val Accuracy: 0.8955\n",
      "Epoch [42/50], Train Loss: 0.2875, Train Accuracy: 0.8921, Val Loss: 0.3209, Val Accuracy: 0.9045\n",
      "Epoch [43/50], Train Loss: 0.2884, Train Accuracy: 0.8941, Val Loss: 0.3240, Val Accuracy: 0.8955\n",
      "Epoch [44/50], Train Loss: 0.3076, Train Accuracy: 0.8873, Val Loss: 0.3280, Val Accuracy: 0.9000\n",
      "Epoch [45/50], Train Loss: 0.2858, Train Accuracy: 0.8824, Val Loss: 0.3230, Val Accuracy: 0.9045\n",
      "Epoch [46/50], Train Loss: 0.2920, Train Accuracy: 0.8882, Val Loss: 0.3208, Val Accuracy: 0.9000\n",
      "Epoch [47/50], Train Loss: 0.2916, Train Accuracy: 0.8892, Val Loss: 0.3226, Val Accuracy: 0.9045\n",
      "Epoch [48/50], Train Loss: 0.2830, Train Accuracy: 0.8892, Val Loss: 0.3229, Val Accuracy: 0.9000\n",
      "Epoch [49/50], Train Loss: 0.2971, Train Accuracy: 0.8795, Val Loss: 0.3236, Val Accuracy: 0.8909\n",
      "Epoch [50/50], Train Loss: 0.2823, Train Accuracy: 0.8844, Val Loss: 0.3232, Val Accuracy: 0.9000\n"
     ]
    }
   ],
   "source": [
    "# Initialize model, loss function, and optimizer\n",
    "model = MLP().to(device)\n",
    "criterion = custom_bce_loss  # Or custom_hinge_loss, depending on your choice\n",
    "optimizer = optim.Adam(model.parameters(), lr=0.001, weight_decay=1e-5)\n",
    "\n",
    "# Train the model with early stopping\n",
    "train_losses, val_losses, train_accuracies, val_accuracies = train_model(\n",
    "    model, train_loader, val_loader, criterion, optimizer, num_epochs=50, patience=5\n",
    ")\n",
    "\n",
    "# Evaluate the model on the test set\n",
    "test_loss, test_accuracy = evaluate_model(model, test_loader, criterion)"
   ]
  },
  {
   "cell_type": "markdown",
   "id": "5e235cc7e7c5cd95",
   "metadata": {},
   "source": [
    "### I. Plotting model for BCE model"
   ]
  },
  {
   "cell_type": "code",
   "execution_count": 9,
   "id": "67f7f551fead729d",
   "metadata": {
    "ExecuteTime": {
     "end_time": "2025-02-24T03:12:49.594251Z",
     "start_time": "2025-02-24T03:12:49.247839Z"
    }
   },
   "outputs": [
    {
     "data": {
      "image/png": "[encoded data removed]",
      "text/plain": [
       "<Figure size 1200x600 with 2 Axes>"
      ]
     },
     "metadata": {},
     "output_type": "display_data"
    }
   ],
   "source": [
    "# Plotting training and validation losses\n",
    "plt.figure(figsize=(12, 6))\n",
    "\n",
    "# Plot losses\n",
    "plt.subplot(1, 2, 1)\n",
    "plt.plot(train_losses, label='Train Loss')\n",
    "plt.plot(val_losses, label='Validation Loss')\n",
    "plt.xlabel('Epochs')\n",
    "plt.ylabel('Loss')\n",
    "plt.title('Training and Validation Loss Curves')\n",
    "plt.legend()\n",
    "\n",
    "# Plot accuracies\n",
    "plt.subplot(1, 2, 2)\n",
    "plt.plot(train_accuracies, label='Train Accuracy')\n",
    "plt.plot(val_accuracies, label='Validation Accuracy')\n",
    "plt.xlabel('Epochs')\n",
    "plt.ylabel('Accuracy')\n",
    "plt.title('Training and Validation Accuracy Curves')\n",
    "plt.legend()\n",
    "\n",
    "plt.tight_layout()\n",
    "plt.show()"
   ]
  },
  {
   "cell_type": "markdown",
   "id": "fcd6df14-38e8-4151-93cc-9baa680f013c",
   "metadata": {},
   "source": [
    "### H. Model Initialization, Loss Function and Optimizer for Hinge loss"
   ]
  },
  {
   "cell_type": "code",
   "execution_count": null,
   "id": "45318281-01ea-42af-98b8-b476af7ceaf3",
   "metadata": {},
   "outputs": [],
   "source": [
    "# Initialize model, loss function, and optimizer\n",
    "model = MLP().to(device)\n",
    "criterion = custom_hinge_loss  # Or custom_hinge_loss, depending on your choice\n",
    "optimizer = optim.Adam(model.parameters(), lr=0.001, weight_decay=1e-5)\n",
    "\n",
    "# Train the model with early stopping\n",
    "train_losses, val_losses, train_accuracies, val_accuracies = train_model(\n",
    "    model, train_loader, val_loader, criterion, optimizer, num_epochs=50, patience=5\n",
    ")\n",
    "\n",
    "# Evaluate the model on the test set\n",
    "test_loss, test_accuracy = evaluate_model(model, test_loader, criterion)"
   ]
  },
  {
   "cell_type": "markdown",
   "id": "919329cc-50a3-466a-b81b-94a05e205694",
   "metadata": {},
   "source": [
    "### I. Plotting model for hinge model"
   ]
  },
  {
   "cell_type": "code",
   "execution_count": null,
   "id": "2631b8b2-c4e2-4b34-8194-2e7e548fb943",
   "metadata": {},
   "outputs": [],
   "source": [
    "# Plotting training and validation losses\n",
    "plt.figure(figsize=(12, 6))\n",
    "\n",
    "# Plot losses\n",
    "plt.subplot(1, 2, 1)\n",
    "plt.plot(train_losses, label='Train Loss')\n",
    "plt.plot(val_losses, label='Validation Loss')\n",
    "plt.xlabel('Epochs')\n",
    "plt.ylabel('Loss')\n",
    "plt.title('Training and Validation Loss Curves')\n",
    "plt.legend()\n",
    "\n",
    "# Plot accuracies\n",
    "plt.subplot(1, 2, 2)\n",
    "plt.plot(train_accuracies, label='Train Accuracy')\n",
    "plt.plot(val_accuracies, label='Validation Accuracy')\n",
    "plt.xlabel('Epochs')\n",
    "plt.ylabel('Accuracy')\n",
    "plt.title('Training and Validation Accuracy Curves')\n",
    "plt.legend()\n",
    "\n",
    "plt.tight_layout()\n",
    "plt.show()"
   ]
  }
 ],
 "metadata": {
  "kernelspec": {
   "display_name": "Python 3 (ipykernel)",
   "language": "python",
   "name": "python3"
  },
  "language_info": {
   "codemirror_mode": {
    "name": "ipython",
    "version": 3
   },
   "file_extension": ".py",
   "mimetype": "text/x-python",
   "name": "python",
   "nbconvert_exporter": "python",
   "pygments_lexer": "ipython3",
   "version": "3.12.9"
  }
 },
 "nbformat": 4,
 "nbformat_minor": 5
}
